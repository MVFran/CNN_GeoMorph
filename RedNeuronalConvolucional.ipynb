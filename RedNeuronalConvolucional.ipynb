{
  "nbformat": 4,
  "nbformat_minor": 0,
  "metadata": {
    "colab": {
      "provenance": [],
      "authorship_tag": "ABX9TyP8euimNXORMjifOiCK7I/a",
      "include_colab_link": true
    },
    "kernelspec": {
      "name": "python3",
      "display_name": "Python 3"
    },
    "language_info": {
      "name": "python"
    }
  },
  "cells": [
    {
      "cell_type": "markdown",
      "metadata": {
        "id": "view-in-github",
        "colab_type": "text"
      },
      "source": [
        "<a href=\"https://colab.research.google.com/github/MVFran/PyTorchForDeepLearning/blob/master/RedNeuronalConvolucional.ipynb\" target=\"_parent\"><img src=\"https://colab.research.google.com/assets/colab-badge.svg\" alt=\"Open In Colab\"/></a>"
      ]
    },
    {
      "cell_type": "code",
      "execution_count": 1,
      "metadata": {
        "id": "uKneA4x5OlC5"
      },
      "outputs": [],
      "source": [
        "# En esta red neuronal, vamos a utilizar la base de datos MNIST\n",
        "import torch\n",
        "import torch.nn as nn\n",
        "import torch.nn.functional as F\n",
        "from torch.utils.data import DataLoader\n",
        "from torchvision import datasets, transforms\n",
        "from torchvision.utils import make_grid\n",
        "import numpy as np\n",
        "import pandas as pd\n",
        "from sklearn.metrics import confusion_matrix\n",
        "import matplotlib.pyplot as plt\n",
        "%matplotlib inline"
      ]
    },
    {
      "cell_type": "code",
      "source": [
        "# Comvertimos las imagenes de MNIST es un tensor de 4 dimensiones (Número de imágenes, alto, ancho, color)\n",
        "transform = transforms.ToTensor()"
      ],
      "metadata": {
        "id": "ADyw1mISoBJp"
      },
      "execution_count": 2,
      "outputs": []
    },
    {
      "cell_type": "code",
      "source": [
        "# Cargamos la base de datos\n",
        "train_data = datasets.MNIST(root = \"/CNN_data\", train = True, download = True, transform = transform)"
      ],
      "metadata": {
        "colab": {
          "base_uri": "https://localhost:8080/"
        },
        "id": "nM-LgLUFoBGg",
        "outputId": "fa138c35-b29f-4d18-fca8-2e95ed8a43d1"
      },
      "execution_count": 3,
      "outputs": [
        {
          "output_type": "stream",
          "name": "stdout",
          "text": [
            "Downloading http://yann.lecun.com/exdb/mnist/train-images-idx3-ubyte.gz\n",
            "Failed to download (trying next):\n",
            "HTTP Error 404: Not Found\n",
            "\n",
            "Downloading https://ossci-datasets.s3.amazonaws.com/mnist/train-images-idx3-ubyte.gz\n",
            "Downloading https://ossci-datasets.s3.amazonaws.com/mnist/train-images-idx3-ubyte.gz to /CNN_data/MNIST/raw/train-images-idx3-ubyte.gz\n"
          ]
        },
        {
          "output_type": "stream",
          "name": "stderr",
          "text": [
            "100%|██████████| 9.91M/9.91M [00:00<00:00, 37.1MB/s]\n"
          ]
        },
        {
          "output_type": "stream",
          "name": "stdout",
          "text": [
            "Extracting /CNN_data/MNIST/raw/train-images-idx3-ubyte.gz to /CNN_data/MNIST/raw\n",
            "\n",
            "Downloading http://yann.lecun.com/exdb/mnist/train-labels-idx1-ubyte.gz\n",
            "Failed to download (trying next):\n",
            "HTTP Error 404: Not Found\n",
            "\n",
            "Downloading https://ossci-datasets.s3.amazonaws.com/mnist/train-labels-idx1-ubyte.gz\n",
            "Downloading https://ossci-datasets.s3.amazonaws.com/mnist/train-labels-idx1-ubyte.gz to /CNN_data/MNIST/raw/train-labels-idx1-ubyte.gz\n"
          ]
        },
        {
          "output_type": "stream",
          "name": "stderr",
          "text": [
            "100%|██████████| 28.9k/28.9k [00:00<00:00, 1.17MB/s]\n"
          ]
        },
        {
          "output_type": "stream",
          "name": "stdout",
          "text": [
            "Extracting /CNN_data/MNIST/raw/train-labels-idx1-ubyte.gz to /CNN_data/MNIST/raw\n",
            "\n",
            "Downloading http://yann.lecun.com/exdb/mnist/t10k-images-idx3-ubyte.gz\n",
            "Failed to download (trying next):\n",
            "HTTP Error 404: Not Found\n",
            "\n",
            "Downloading https://ossci-datasets.s3.amazonaws.com/mnist/t10k-images-idx3-ubyte.gz\n",
            "Downloading https://ossci-datasets.s3.amazonaws.com/mnist/t10k-images-idx3-ubyte.gz to /CNN_data/MNIST/raw/t10k-images-idx3-ubyte.gz\n"
          ]
        },
        {
          "output_type": "stream",
          "name": "stderr",
          "text": [
            "100%|██████████| 1.65M/1.65M [00:00<00:00, 10.6MB/s]\n"
          ]
        },
        {
          "output_type": "stream",
          "name": "stdout",
          "text": [
            "Extracting /CNN_data/MNIST/raw/t10k-images-idx3-ubyte.gz to /CNN_data/MNIST/raw\n",
            "\n",
            "Downloading http://yann.lecun.com/exdb/mnist/t10k-labels-idx1-ubyte.gz\n",
            "Failed to download (trying next):\n",
            "HTTP Error 404: Not Found\n",
            "\n",
            "Downloading https://ossci-datasets.s3.amazonaws.com/mnist/t10k-labels-idx1-ubyte.gz\n",
            "Downloading https://ossci-datasets.s3.amazonaws.com/mnist/t10k-labels-idx1-ubyte.gz to /CNN_data/MNIST/raw/t10k-labels-idx1-ubyte.gz\n"
          ]
        },
        {
          "output_type": "stream",
          "name": "stderr",
          "text": [
            "100%|██████████| 4.54k/4.54k [00:00<00:00, 1.22MB/s]"
          ]
        },
        {
          "output_type": "stream",
          "name": "stdout",
          "text": [
            "Extracting /CNN_data/MNIST/raw/t10k-labels-idx1-ubyte.gz to /CNN_data/MNIST/raw\n",
            "\n"
          ]
        },
        {
          "output_type": "stream",
          "name": "stderr",
          "text": [
            "\n"
          ]
        }
      ]
    },
    {
      "cell_type": "code",
      "source": [
        "test_data = datasets.MNIST(root = \"/CNN_data\", train = False, download = True, transform = transform)"
      ],
      "metadata": {
        "id": "apMIYL2MoBDs"
      },
      "execution_count": 4,
      "outputs": []
    },
    {
      "cell_type": "code",
      "source": [
        "train_data"
      ],
      "metadata": {
        "colab": {
          "base_uri": "https://localhost:8080/"
        },
        "id": "oujNJFj0oBAA",
        "outputId": "11d6a3ff-10f0-4b0b-b4a6-3665d5435291"
      },
      "execution_count": 5,
      "outputs": [
        {
          "output_type": "execute_result",
          "data": {
            "text/plain": [
              "Dataset MNIST\n",
              "    Number of datapoints: 60000\n",
              "    Root location: /CNN_data\n",
              "    Split: Train\n",
              "    StandardTransform\n",
              "Transform: ToTensor()"
            ]
          },
          "metadata": {},
          "execution_count": 5
        }
      ]
    },
    {
      "cell_type": "code",
      "source": [
        "test_data"
      ],
      "metadata": {
        "colab": {
          "base_uri": "https://localhost:8080/"
        },
        "id": "2D-dVTx4oA8I",
        "outputId": "90902863-741b-424e-8ddb-81db243efb84"
      },
      "execution_count": 6,
      "outputs": [
        {
          "output_type": "execute_result",
          "data": {
            "text/plain": [
              "Dataset MNIST\n",
              "    Number of datapoints: 10000\n",
              "    Root location: /CNN_data\n",
              "    Split: Test\n",
              "    StandardTransform\n",
              "Transform: ToTensor()"
            ]
          },
          "metadata": {},
          "execution_count": 6
        }
      ]
    },
    {
      "cell_type": "code",
      "source": [
        "# Creamos un tamaño del batch para las imágenes (en este caso 10)\n",
        "train_loader = DataLoader(train_data, batch_size = 10, shuffle = True)\n",
        "test_loader = DataLoader(test_data, batch_size = 10, shuffle = False)"
      ],
      "metadata": {
        "id": "9gzAPm79oA33"
      },
      "execution_count": 7,
      "outputs": []
    },
    {
      "cell_type": "code",
      "source": [
        "# Definimos un modelo de CNN de ejemplo\n",
        "conv1 = nn.Conv2d(1, 6, 3, 1)\n",
        "conv2 = nn.Conv2d(6, 16, 3, 1)"
      ],
      "metadata": {
        "id": "Ge8Fs2gZoA0I"
      },
      "execution_count": 8,
      "outputs": []
    },
    {
      "cell_type": "code",
      "source": [
        "# Tomamos una unica imágen del dataset\n",
        "for i, (X_train, y_train) in enumerate(train_data):\n",
        "  break"
      ],
      "metadata": {
        "id": "JqHQBWDfoAwG"
      },
      "execution_count": 9,
      "outputs": []
    },
    {
      "cell_type": "code",
      "source": [
        "X_train.shape"
      ],
      "metadata": {
        "colab": {
          "base_uri": "https://localhost:8080/"
        },
        "id": "7PTtUuq7oApq",
        "outputId": "489926da-e480-4472-e9b1-55cfc94225ed"
      },
      "execution_count": 10,
      "outputs": [
        {
          "output_type": "execute_result",
          "data": {
            "text/plain": [
              "torch.Size([1, 28, 28])"
            ]
          },
          "metadata": {},
          "execution_count": 10
        }
      ]
    },
    {
      "cell_type": "code",
      "source": [
        "x = X_train.view(1, 1, 28, 28)"
      ],
      "metadata": {
        "id": "0xoeewQTs2zU"
      },
      "execution_count": 11,
      "outputs": []
    },
    {
      "cell_type": "code",
      "source": [
        "# Probamos la primera convolución\n",
        "x = F.relu(conv1(x)) # Rectified Linear Unit como función de activación\n",
        "x.shape              # El 1 indica que es una imagen, el 6 es el número de filtros y 26, 26 las nuevas dimensiones de la imagen"
      ],
      "metadata": {
        "colab": {
          "base_uri": "https://localhost:8080/"
        },
        "id": "xZ8fJt3zuAA9",
        "outputId": "c456a884-92ec-4cea-d65a-eac05137ca0c"
      },
      "execution_count": 12,
      "outputs": [
        {
          "output_type": "execute_result",
          "data": {
            "text/plain": [
              "torch.Size([1, 6, 26, 26])"
            ]
          },
          "metadata": {},
          "execution_count": 12
        }
      ]
    },
    {
      "cell_type": "code",
      "source": [
        "# Se hace max pooling\n",
        "x = F.max_pool2d(x, 2, 2) # Kernel de 2 y stride de 2\n",
        "x.shape"
      ],
      "metadata": {
        "colab": {
          "base_uri": "https://localhost:8080/"
        },
        "id": "GdvvgO2Cuef7",
        "outputId": "993a7c03-ffcf-46ad-c723-f1c4dc258238"
      },
      "execution_count": 13,
      "outputs": [
        {
          "output_type": "execute_result",
          "data": {
            "text/plain": [
              "torch.Size([1, 6, 13, 13])"
            ]
          },
          "metadata": {},
          "execution_count": 13
        }
      ]
    },
    {
      "cell_type": "code",
      "source": [
        "# Ahora, hacemos la segunda convolución\n",
        "x = F.relu(conv2(x))\n",
        "x.shape"
      ],
      "metadata": {
        "colab": {
          "base_uri": "https://localhost:8080/"
        },
        "id": "Vd1c9nxKuect",
        "outputId": "fb0e8720-f2a9-4382-fd05-b5838df94d04"
      },
      "execution_count": 14,
      "outputs": [
        {
          "output_type": "execute_result",
          "data": {
            "text/plain": [
              "torch.Size([1, 16, 11, 11])"
            ]
          },
          "metadata": {},
          "execution_count": 14
        }
      ]
    },
    {
      "cell_type": "code",
      "source": [
        "# pooling\n",
        "x = F.max_pool2d(x, 2, 2)\n",
        "x.shape # El valor se redondea hacia abajo, ya que no podemos inventar datos para redondear hacia arriba"
      ],
      "metadata": {
        "colab": {
          "base_uri": "https://localhost:8080/"
        },
        "id": "LfaPHsBWueZe",
        "outputId": "a302528b-b317-4409-b43c-79a78442109b"
      },
      "execution_count": 15,
      "outputs": [
        {
          "output_type": "execute_result",
          "data": {
            "text/plain": [
              "torch.Size([1, 16, 5, 5])"
            ]
          },
          "metadata": {},
          "execution_count": 15
        }
      ]
    },
    {
      "cell_type": "code",
      "source": [
        "# Ahora vamos a definir formalmente el modelo\n",
        "class ConvolutionalNetwork(nn.Module):\n",
        "  def __init__(self):\n",
        "    super().__init__()\n",
        "    self.conv1 = nn.Conv2d(1, 6, 3, 1) # input, output, kernel, stride\n",
        "    self.conv2 = nn.Conv2d(6, 16, 3, 1)\n",
        "    # Fully connected layer\n",
        "    self.fc1 = nn.Linear(5 * 5 * 16, 120)  # Hay 16 filtros y después de la última capa de max pooling la imagen se reduce a 5, 5 (el valor de 120 es arbitrario, son neuronas simples)\n",
        "    self.fc2 = nn.Linear(120, 60)   # el 60 es arbitrario\n",
        "    self.fc3 = nn.Linear(60, 10) # 10 es el número de clases que tenemos (los números del MNIST)\n",
        "\n",
        "  def forward(self, X):\n",
        "    X = F.relu(self.conv1(X))\n",
        "    X = F.max_pool2d(X, 2, 2) # kernel de 2x2 y stride de 2\n",
        "    X = F.relu(self.conv2(X))\n",
        "    X = F.max_pool2d(X, 2, 2)\n",
        "\n",
        "    X = X.view(-1, 16 * 5 * 5) # Como es -1, podemos variar el tamaño del batch\n",
        "\n",
        "    # Fully connected layer\n",
        "    X = F.relu(self.fc1(X))\n",
        "    X = F.relu(self.fc2(X))\n",
        "    X = self.fc3(X)\n",
        "    return F.log_softmax(X, dim = 1)"
      ],
      "metadata": {
        "id": "Tz7dD6r5ueWn"
      },
      "execution_count": 17,
      "outputs": []
    },
    {
      "cell_type": "code",
      "source": [
        " # Creamos una instancia de nuestro modelo\n",
        " torch.manual_seed(55)\n",
        " model = ConvolutionalNetwork()\n",
        " model"
      ],
      "metadata": {
        "colab": {
          "base_uri": "https://localhost:8080/"
        },
        "id": "laLMqUaGueT9",
        "outputId": "a2ccb071-0a71-4be7-cb17-2044d9645108"
      },
      "execution_count": 18,
      "outputs": [
        {
          "output_type": "execute_result",
          "data": {
            "text/plain": [
              "ConvolutionalNetwork(\n",
              "  (conv1): Conv2d(1, 6, kernel_size=(3, 3), stride=(1, 1))\n",
              "  (conv2): Conv2d(6, 16, kernel_size=(3, 3), stride=(1, 1))\n",
              "  (fc1): Linear(in_features=400, out_features=120, bias=True)\n",
              "  (fc2): Linear(in_features=120, out_features=60, bias=True)\n",
              "  (fc3): Linear(in_features=60, out_features=10, bias=True)\n",
              ")"
            ]
          },
          "metadata": {},
          "execution_count": 18
        }
      ]
    },
    {
      "cell_type": "code",
      "source": [
        "# Función de perdida y optimizador\n",
        "criterion = nn.CrossEntropyLoss()\n",
        "optimizer = torch.optim.Adam(model.parameters(), lr = 0.01)"
      ],
      "metadata": {
        "id": "Quhz2ahrueQu"
      },
      "execution_count": 19,
      "outputs": []
    },
    {
      "cell_type": "code",
      "source": [
        "import time\n",
        "start_time = time.time()\n",
        "\n",
        "epochs = 5\n",
        "train_losses = []\n",
        "test_losses = []\n",
        "train_correct = []\n",
        "test_correct = []\n",
        "\n",
        "for i in range(epochs):\n",
        "  trn_corr = 0\n",
        "  tst_corr = 0\n",
        "\n",
        "  for b, (X_train, y_train) in enumerate(train_loader):\n",
        "    b += 1 # Empezamos el batch en 1\n",
        "    y_pred = model(X_train) # Nos da las predicciones del entrenamiento (en 2 dimensiones)\n",
        "    loss = criterion(y_pred, y_train) # compara las predicciones\n",
        "\n",
        "    predicted = torch.max(y_pred.data, 1)[1] # Añadimos el número de predicciones correctas\n",
        "    batch_corr = (predicted == y_train).sum() # Cuantos son correctos con este batch especifico\n",
        "    trn_corr += batch_corr\n",
        "\n",
        "    optimizer.zero_grad()\n",
        "    loss.backward()\n",
        "    optimizer.step()\n",
        "\n",
        "    if b % 600 == 0:\n",
        "      print(f\"Epoca {i}, Batch {b}, Loss {loss.item()}\")\n",
        "\n",
        "  train_losses.append(loss)\n",
        "  train_correct.append(trn_corr)\n",
        "\n",
        "  #test\n",
        "  with torch.no_grad():\n",
        "    for b, (X_test, y_test) in enumerate(train_loader):\n",
        "      y_val = model(X_test)\n",
        "      predicted = torch.max(y_val.data, 1)[1] # Predicciones correctas\n",
        "      tst_corr += (predicted == y_test).sum()\n",
        "\n",
        "  loss = criterion(y_val, y_test)\n",
        "  test_losses.append(loss)\n",
        "  test_correct.append(tst_corr)\n",
        "\n",
        "\n",
        "current_time = time.time()\n",
        "\n",
        "total_time = current_time - start_time\n",
        "\n",
        "print(f\"Entrenar el modelo tomó {total_time / 60} minutos\")"
      ],
      "metadata": {
        "colab": {
          "base_uri": "https://localhost:8080/"
        },
        "id": "F65-ovb_jZOE",
        "outputId": "e028607d-2c60-4a04-8269-ce65fce1ac60"
      },
      "execution_count": 20,
      "outputs": [
        {
          "output_type": "stream",
          "name": "stdout",
          "text": [
            "Epoca 0, Batch 600, Loss 0.8000332117080688\n",
            "Epoca 0, Batch 1200, Loss 0.014056098647415638\n",
            "Epoca 0, Batch 1800, Loss 0.19615696370601654\n",
            "Epoca 0, Batch 2400, Loss 0.545016884803772\n",
            "Epoca 0, Batch 3000, Loss 0.006100490223616362\n",
            "Epoca 0, Batch 3600, Loss 0.011846446432173252\n",
            "Epoca 0, Batch 4200, Loss 0.261645644903183\n",
            "Epoca 0, Batch 4800, Loss 0.00020967978343833238\n",
            "Epoca 0, Batch 5400, Loss 0.0005648492951877415\n",
            "Epoca 0, Batch 6000, Loss 0.0002561464789323509\n",
            "Epoca 1, Batch 600, Loss 0.08769838511943817\n",
            "Epoca 1, Batch 1200, Loss 0.03837572783231735\n",
            "Epoca 1, Batch 1800, Loss 0.002070689806714654\n",
            "Epoca 1, Batch 2400, Loss 0.029039647430181503\n",
            "Epoca 1, Batch 3000, Loss 0.03945043683052063\n",
            "Epoca 1, Batch 3600, Loss 0.15563686192035675\n",
            "Epoca 1, Batch 4200, Loss 0.002917021047323942\n",
            "Epoca 1, Batch 4800, Loss 0.003329893108457327\n",
            "Epoca 1, Batch 5400, Loss 0.09413498640060425\n",
            "Epoca 1, Batch 6000, Loss 0.7808905839920044\n",
            "Epoca 2, Batch 600, Loss 0.3457917869091034\n",
            "Epoca 2, Batch 1200, Loss 0.7304837107658386\n",
            "Epoca 2, Batch 1800, Loss 0.0006192292203195393\n",
            "Epoca 2, Batch 2400, Loss 0.657706618309021\n",
            "Epoca 2, Batch 3000, Loss 0.28816744685173035\n",
            "Epoca 2, Batch 3600, Loss 0.0029444245155900717\n",
            "Epoca 2, Batch 4200, Loss 0.007217036094516516\n",
            "Epoca 2, Batch 4800, Loss 0.8403792381286621\n",
            "Epoca 2, Batch 5400, Loss 0.03236790746450424\n",
            "Epoca 2, Batch 6000, Loss 0.010011643171310425\n",
            "Epoca 3, Batch 600, Loss 0.1305660903453827\n",
            "Epoca 3, Batch 1200, Loss 6.64486360619776e-05\n",
            "Epoca 3, Batch 1800, Loss 0.33708009123802185\n",
            "Epoca 3, Batch 2400, Loss 1.7150180339813232\n",
            "Epoca 3, Batch 3000, Loss 0.5507437586784363\n",
            "Epoca 3, Batch 3600, Loss 0.016275964677333832\n",
            "Epoca 3, Batch 4200, Loss 0.004471819847822189\n",
            "Epoca 3, Batch 4800, Loss 0.06715548038482666\n",
            "Epoca 3, Batch 5400, Loss 0.08772653341293335\n",
            "Epoca 3, Batch 6000, Loss 0.12582211196422577\n",
            "Epoca 4, Batch 600, Loss 0.014848297461867332\n",
            "Epoca 4, Batch 1200, Loss 0.03807093948125839\n",
            "Epoca 4, Batch 1800, Loss 0.05099622160196304\n",
            "Epoca 4, Batch 2400, Loss 0.00984201394021511\n",
            "Epoca 4, Batch 3000, Loss 0.0015952435787767172\n",
            "Epoca 4, Batch 3600, Loss 0.17099139094352722\n",
            "Epoca 4, Batch 4200, Loss 0.007529331836849451\n",
            "Epoca 4, Batch 4800, Loss 0.0022372030653059483\n",
            "Epoca 4, Batch 5400, Loss 0.26492252945899963\n",
            "Epoca 4, Batch 6000, Loss 0.03365181013941765\n",
            "Entrenar el modelo tomó 4.867729433377584 minutos\n"
          ]
        }
      ]
    },
    {
      "cell_type": "code",
      "source": [
        "# Graficamos la perdida por epoca\n",
        "train_losses = [tl.item() for tl in train_losses]\n",
        "\n",
        "plt.plot(train_losses, label = \"Training loss\")\n",
        "plt.plot(test_losses, label = \"Validation loss\")\n",
        "plt.title(\"Loss vs Epoch\")\n",
        "plt.legend()"
      ],
      "metadata": {
        "colab": {
          "base_uri": "https://localhost:8080/",
          "height": 469
        },
        "id": "EqOflbXXjZKQ",
        "outputId": "8749edd4-b034-451d-a7a9-53e2fc92767f"
      },
      "execution_count": 23,
      "outputs": [
        {
          "output_type": "execute_result",
          "data": {
            "text/plain": [
              "<matplotlib.legend.Legend at 0x7b6aaf408cd0>"
            ]
          },
          "metadata": {},
          "execution_count": 23
        },
        {
          "output_type": "display_data",
          "data": {
            "text/plain": [
              "<Figure size 640x480 with 1 Axes>"
            ],
            "image/png": "[encoded data removed]"
          },
          "metadata": {}
        }
      ]
    },
    {
      "cell_type": "code",
      "source": [
        "# Graficamos la precisión al final de cada epoca\n",
        "plt.plot([t/600 for t in train_correct], label = \"Training Accuracy\")\n",
        "plt.plot([t/100 for t in test_correct], label = \"Validation Accuray\")\n",
        "plt.title(\"Accuracy at the end of each epoch\")\n",
        "plt.legend()"
      ],
      "metadata": {
        "colab": {
          "base_uri": "https://localhost:8080/",
          "height": 469
        },
        "id": "TuElW8HVjZGY",
        "outputId": "a8413248-9462-4420-9dde-de59ce7941c0"
      },
      "execution_count": 25,
      "outputs": [
        {
          "output_type": "execute_result",
          "data": {
            "text/plain": [
              "<matplotlib.legend.Legend at 0x7b6aabc12910>"
            ]
          },
          "metadata": {},
          "execution_count": 25
        },
        {
          "output_type": "display_data",
          "data": {
            "text/plain": [
              "<Figure size 640x480 with 1 Axes>"
            ],
            "image/png": "[encoded data removed]"
          },
          "metadata": {}
        }
      ]
    },
    {
      "cell_type": "code",
      "source": [],
      "metadata": {
        "id": "IRqFtNsKjZBB"
      },
      "execution_count": null,
      "outputs": []
    }
  ]
}