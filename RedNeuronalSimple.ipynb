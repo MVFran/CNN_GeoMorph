{
  "nbformat": 4,
  "nbformat_minor": 0,
  "metadata": {
    "colab": {
      "provenance": [],
      "authorship_tag": "ABX9TyNwra65aMzfsi4B3n3qYZ3I",
      "include_colab_link": true
    },
    "kernelspec": {
      "name": "python3",
      "display_name": "Python 3"
    },
    "language_info": {
      "name": "python"
    }
  },
  "cells": [
    {
      "cell_type": "markdown",
      "metadata": {
        "id": "view-in-github",
        "colab_type": "text"
      },
      "source": [
        "<a href=\"https://colab.research.google.com/github/MVFran/PyTorchForDeepLearning/blob/master/RedNeuronalSimple.ipynb\" target=\"_parent\"><img src=\"https://colab.research.google.com/assets/colab-badge.svg\" alt=\"Open In Colab\"/></a>"
      ]
    },
    {
      "cell_type": "code",
      "execution_count": 1,
      "metadata": {
        "id": "3BnErQzvnWQf"
      },
      "outputs": [],
      "source": [
        "import torch\n",
        "import torch.nn as nn\n",
        "import torch.nn.functional as F"
      ]
    },
    {
      "cell_type": "code",
      "source": [
        "# Creamos una clase que hereda nn.Module\n",
        "\n",
        "class Model(nn.Module):\n",
        "  def __init__(self, caracteristicas = 4, h1 = 8, h2 = 8, salida = 3): #En la capa de entrada se añaden las 4 caracteristicas de las flores\n",
        "    super().__init__()                                                 #Para la primera y segunda capa se tienen 8 neuronas\n",
        "    self.fc1 = nn.Linear(caracteristicas, h1)                          #A la salida se da una de las 3 posibles clasificaciones\n",
        "    self.fc2 = nn.Linear(h1, h2)\n",
        "    self.out = nn.Linear(h2, salida)\n",
        "\n",
        "  def forward(self, x):\n",
        "    x = F.relu(self.fc1(x))\n",
        "    x = F.relu(self.fc2(x))\n",
        "    x = self.out(x)\n",
        "    return x"
      ],
      "metadata": {
        "id": "hfAS7XhiooY7"
      },
      "execution_count": 3,
      "outputs": []
    },
    {
      "cell_type": "code",
      "source": [
        "# Escogemos una semilla para que al ejecutar el modelo en diversas ocasiones se obtenga el mismo resultado\n",
        "torch.manual_seed(18012025)\n",
        "model = Model()"
      ],
      "metadata": {
        "id": "12ZAN4I0rd2q"
      },
      "execution_count": 5,
      "outputs": []
    }
  ]
}